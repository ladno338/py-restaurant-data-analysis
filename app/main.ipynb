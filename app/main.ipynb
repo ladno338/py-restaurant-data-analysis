{
 "cells": [
  {
   "cell_type": "code",
   "execution_count": null,
   "metadata": {
    "collapsed": true,
    "pycharm": {
     "name": "#%%\n"
    }
   },
   "outputs": [],
   "source": [
    "import pandas as pd\n",
    "import numpy as np"
   ]
  },
  {
   "cell_type": "markdown",
   "source": [
    "# Task 0\n",
    "Data extraction: get the data from 3 tables & combine it into single `.csv` file.\n",
    "After that read this file using pandas to create Dataframe.\n",
    "So it will be all joined data in 1 dataframe. Quick check - should be 74818 rows in it."
   ],
   "metadata": {
    "collapsed": false,
    "pycharm": {
     "name": "#%% md\n"
    }
   }
  },
  {
   "cell_type": "code",
   "execution_count": null,
   "outputs": [],
   "source": [
    "import sqlite3\n",
    "\n",
    "conn = sqlite3.connect('../db.sqlite3')\n",
    "\n",
    "cursor = conn.cursor()\n",
    "\n",
    "cursor.execute(\"SELECT * FROM restaurant_orderitem;\")\n",
    "orderitems = cursor.fetchall()\n",
    "\n",
    "cursor.execute(\"SELECT * FROM restaurant_product;\")\n",
    "products = cursor.fetchall()\n",
    "\n",
    "cursor.execute(\"SELECT * FROM restaurant_order;\")\n",
    "orders = cursor.fetchall()\n",
    "\n",
    "orderitems_df = pd.DataFrame(orderitems, columns=['id', 'quantity', 'order_id', 'product_id'])\n",
    "products_df = pd.DataFrame(products, columns=['id', 'price', 'name'])\n",
    "orders_df = pd.DataFrame(orders, columns=['id', 'datetime'])\n",
    "\n",
    "merged_df = orderitems_df.merge(products_df, how='left', left_on='product_id', right_on='id')\n",
    "merged_df = merged_df.merge(orders_df, how='left', left_on='order_id', right_on='id')\n",
    "\n",
    "merged_df.to_csv(\"combined_data.csv\", index=False)\n",
    "\n",
    "df = pd.read_csv('combined_data.csv')\n",
    "\n",
    "print(df.shape[0])"
   ],
   "metadata": {
    "collapsed": false,
    "pycharm": {
     "name": "#%%\n"
    }
   }
  },
  {
   "cell_type": "markdown",
   "source": [
    "# Task 1\n",
    "Get Top 10 most popular products in restaurant sold by Quantity.\n",
    "Count how many times each product was sold and create a pie chart with percentage of popularity (by quantity) for top 10 of them.\n",
    "\n",
    "Example:\n",
    "\n",
    "![pie chart](../demo/pie.png)"
   ],
   "metadata": {
    "collapsed": false,
    "pycharm": {
     "name": "#%% md\n"
    }
   }
  },
  {
   "cell_type": "code",
   "execution_count": null,
   "outputs": [],
   "source": [
    "import matplotlib.pyplot as plt\n",
    "\n",
    "grouped_df = df.groupby(\"name\")[\"quantity\"].sum().reset_index()\n",
    "\n",
    "grouped_df = grouped_df.sort_values(\"quantity\", ascending=False).head(10)\n",
    "\n",
    "plt.pie(grouped_df[\"quantity\"], labels=grouped_df[\"name\"], autopct='%1.1f%%')\n",
    "plt.title(\"Top 10 most popular products\")\n",
    "plt.show()"
   ],
   "metadata": {
    "collapsed": false,
    "pycharm": {
     "name": "#%%\n"
    }
   }
  },
  {
   "cell_type": "markdown",
   "source": [
    "# Task 2\n",
    "Calculate `Item Price` (Product Price * Quantity) for each Order Item in dataframe.\n",
    "And Make the same Top 10 pie chart, but this time by `Item Price`. So this chart should describe not the most popular products by quantity, but which products (top 10) make the most money for restaurant. It should be also with percentage."
   ],
   "metadata": {
    "collapsed": false,
    "pycharm": {
     "name": "#%% md\n"
    }
   }
  },
  {
   "cell_type": "code",
   "execution_count": null,
   "outputs": [],
   "source": [
    "df['item_price'] = df['quantity'] * df['price']\n",
    "\n",
    "grouped_df = df.groupby('name')['item_price'].sum().reset_index()\n",
    "\n",
    "grouped_df = grouped_df.sort_values('item_price', ascending=False).head(10)\n",
    "\n",
    "plt.pie(grouped_df['item_price'], labels=grouped_df['name'], autopct='%1.1f%%')\n",
    "plt.title(\"Top 10 profitable products\")\n",
    "plt.show()"
   ],
   "metadata": {
    "collapsed": false,
    "pycharm": {
     "name": "#%%\n",
     "is_executing": true
    }
   }
  },
  {
   "cell_type": "markdown",
   "source": [
    "# Task 3\n",
    "Calculate `Order Hour` based on `Order Datetime`, which will tell about the specific our the order was created (from 0 to 23). Using `Order Hour` create a bar chart, which will tell the total restaurant income based on the hour order was created. So on x-axis - it will be values from 0 to 23 (hours), on y-axis - it will be the total sum of order prices, which were sold on that hour.\n",
    "\n",
    "Example:\n",
    "\n",
    "![bar chart](../demo/bar.png)"
   ],
   "metadata": {
    "collapsed": false,
    "pycharm": {
     "name": "#%% md\n"
    }
   }
  },
  {
   "cell_type": "code",
   "execution_count": null,
   "outputs": [],
   "source": [
    "df['datetime'] = pd.to_datetime(df['datetime'])\n",
    "\n",
    "df['order_hour'] = df['datetime'].dt.hour\n",
    "\n",
    "grouped_df = df.groupby('order_hour')['item_price'].sum().reset_index()\n",
    "\n",
    "plt.bar(grouped_df['order_hour'], grouped_df['item_price'])\n",
    "plt.xlabel('Order Hour')\n",
    "plt.ylabel('Total Income')\n",
    "plt.title('Total Income by Order Hour')\n",
    "plt.show()"
   ],
   "metadata": {
    "collapsed": false,
    "pycharm": {
     "name": "#%%\n"
    }
   }
  },
  {
   "cell_type": "markdown",
   "source": [
    "# Task 4\n",
    "Make similar bar chart, but right now with `Order Day Of The Week` (from Monday to Sunday), and also analyze total restaurant income by each day of the week."
   ],
   "metadata": {
    "collapsed": false,
    "pycharm": {
     "name": "#%% md\n"
    }
   }
  },
  {
   "cell_type": "code",
   "execution_count": null,
   "outputs": [],
   "source": [
    "df['day_of_week'] = df['datetime'].dt.dayofweek\n",
    "\n",
    "grouped_df = df.groupby('day_of_week')['item_price'].sum().reset_index()\n",
    "\n",
    "days_dict = {0: 'Monday', 1: 'Tuesday', 2: 'Wednesday', 3: 'Thursday', 4: 'Friday', 5: 'Saturday', 6: 'Sunday'}\n",
    "grouped_df['day_of_week'] = grouped_df['day_of_week'].map(days_dict)\n",
    "\n",
    "plt.bar(grouped_df['day_of_week'], grouped_df['item_price'])\n",
    "plt.xlabel('Day of Week')\n",
    "plt.ylabel('Total Income')\n",
    "plt.title('Total Income by Day of Week')\n",
    "plt.xticks(rotation=45)\n",
    "plt.show()"
   ],
   "metadata": {
    "collapsed": false,
    "pycharm": {
     "name": "#%%\n"
    }
   }
  }
 ],
 "metadata": {
  "kernelspec": {
   "display_name": "Python 3",
   "language": "python",
   "name": "python3"
  },
  "language_info": {
   "codemirror_mode": {
    "name": "ipython",
    "version": 2
   },
   "file_extension": ".py",
   "mimetype": "text/x-python",
   "name": "python",
   "nbconvert_exporter": "python",
   "pygments_lexer": "ipython2",
   "version": "2.7.6"
  }
 },
 "nbformat": 4,
 "nbformat_minor": 0
}
